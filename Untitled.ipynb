{
 "cells": [
  {
   "cell_type": "markdown",
   "id": "0b1382b9",
   "metadata": {},
   "source": [
    "### I am excited to do my ***first*** data analysis project on Python, and I hope it is a success.\n",
    "\n",
    "### For this project, I have selected the No show appointments dataset."
   ]
  },
  {
   "cell_type": "markdown",
   "id": "347d8a50",
   "metadata": {},
   "source": [
    "## As a beginner, I have choose a simple question for the project.\n",
    "\n",
    "#"
   ]
  }
 ],
 "metadata": {
  "kernelspec": {
   "display_name": "Python 3 (ipykernel)",
   "language": "python",
   "name": "python3"
  },
  "language_info": {
   "codemirror_mode": {
    "name": "ipython",
    "version": 3
   },
   "file_extension": ".py",
   "mimetype": "text/x-python",
   "name": "python",
   "nbconvert_exporter": "python",
   "pygments_lexer": "ipython3",
   "version": "3.9.7"
  }
 },
 "nbformat": 4,
 "nbformat_minor": 5
}
